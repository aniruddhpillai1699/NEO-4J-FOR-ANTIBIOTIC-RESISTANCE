{
  "cells": [
    {
      "cell_type": "code",
      "execution_count": 42,
      "metadata": {
        "id": "8E6O3WP9zVLn"
      },
      "outputs": [],
      "source": [
        "import pandas as pd\n",
        "import numpy as np\n",
        "import re"
      ]
    },
    {
      "cell_type": "code",
      "execution_count": 43,
      "metadata": {
        "id": "SgUO24hhzVLo"
      },
      "outputs": [],
      "source": [
        "card_prevalence = pd.read_csv(\"card_prevalence.txt\", sep=\"\\t\")"
      ]
    },
    {
      "cell_type": "code",
      "execution_count": 44,
      "metadata": {
        "colab": {
          "base_uri": "https://localhost:8080/",
          "height": 789
        },
        "id": "QPfagDVKzVLo",
        "outputId": "59b98cc4-c87e-42f3-aad5-e93b5f085915"
      },
      "outputs": [
        {
          "output_type": "execute_result",
          "data": {
            "text/plain": [
              "  ARO Accession    Name  Model ID             Model Type  \\\n",
              "0   ARO:3002501   PDC-4         1  protein homolog model   \n",
              "1   ARO:3002999  CblA-1         2  protein homolog model   \n",
              "2   ARO:3002999  CblA-1         2  protein homolog model   \n",
              "3   ARO:3001109  SHV-52         4  protein homolog model   \n",
              "4   ARO:3001109  SHV-52         4  protein homolog model   \n",
              "5   ARO:3002867    dfrF         5  protein homolog model   \n",
              "6   ARO:3002867    dfrF         5  protein homolog model   \n",
              "7   ARO:3002867    dfrF         5  protein homolog model   \n",
              "8   ARO:3002867    dfrF         5  protein homolog model   \n",
              "9   ARO:3002867    dfrF         5  protein homolog model   \n",
              "\n",
              "                   Pathogen  NCBI Plasmid  NCBI WGS  NCBI Chromosome  \\\n",
              "0    Pseudomonas aeruginosa           0.0      0.04              0.0   \n",
              "1         Phocaeicola dorei           0.0      1.92              0.0   \n",
              "2         Phocaeicola dorei           0.0      1.92              0.0   \n",
              "3     Klebsiella pneumoniae           0.0      0.15              0.0   \n",
              "4     Klebsiella pneumoniae           0.0      0.16              0.0   \n",
              "5        Streptococcus suis           0.0      0.99              0.0   \n",
              "6     Enterococcus faecalis           0.0      4.72              0.0   \n",
              "7  Streptococcus agalactiae           0.0      0.17              0.0   \n",
              "8        Streptococcus suis           0.0      0.15              0.0   \n",
              "9     Staphylococcus aureus           0.0      0.11              0.0   \n",
              "\n",
              "   NCBI Genomic Island        Criteria  \\\n",
              "0                  0.0  perfect_strict   \n",
              "1                  0.0         perfect   \n",
              "2                  0.0  perfect_strict   \n",
              "3                  0.0         perfect   \n",
              "4                  0.0  perfect_strict   \n",
              "5                  0.0  perfect_strict   \n",
              "6                  0.0         perfect   \n",
              "7                  0.0  perfect_strict   \n",
              "8                  0.0         perfect   \n",
              "9                  0.0         perfect   \n",
              "\n",
              "                                      ARO Categories  \n",
              "0  antibiotic inactivation; carbapenem; cephalosp...  \n",
              "1             antibiotic inactivation; cephalosporin  \n",
              "2             antibiotic inactivation; cephalosporin  \n",
              "3  antibiotic inactivation; carbapenem; cephalosp...  \n",
              "4  antibiotic inactivation; carbapenem; cephalosp...  \n",
              "5  antibiotic target replacement; diaminopyrimidi...  \n",
              "6  antibiotic target replacement; diaminopyrimidi...  \n",
              "7  antibiotic target replacement; diaminopyrimidi...  \n",
              "8  antibiotic target replacement; diaminopyrimidi...  \n",
              "9  antibiotic target replacement; diaminopyrimidi...  "
            ],
            "text/html": [
              "\n",
              "  <div id=\"df-7dbba77c-de51-4f4d-94fa-38970883ad0d\">\n",
              "    <div class=\"colab-df-container\">\n",
              "      <div>\n",
              "<style scoped>\n",
              "    .dataframe tbody tr th:only-of-type {\n",
              "        vertical-align: middle;\n",
              "    }\n",
              "\n",
              "    .dataframe tbody tr th {\n",
              "        vertical-align: top;\n",
              "    }\n",
              "\n",
              "    .dataframe thead th {\n",
              "        text-align: right;\n",
              "    }\n",
              "</style>\n",
              "<table border=\"1\" class=\"dataframe\">\n",
              "  <thead>\n",
              "    <tr style=\"text-align: right;\">\n",
              "      <th></th>\n",
              "      <th>ARO Accession</th>\n",
              "      <th>Name</th>\n",
              "      <th>Model ID</th>\n",
              "      <th>Model Type</th>\n",
              "      <th>Pathogen</th>\n",
              "      <th>NCBI Plasmid</th>\n",
              "      <th>NCBI WGS</th>\n",
              "      <th>NCBI Chromosome</th>\n",
              "      <th>NCBI Genomic Island</th>\n",
              "      <th>Criteria</th>\n",
              "      <th>ARO Categories</th>\n",
              "    </tr>\n",
              "  </thead>\n",
              "  <tbody>\n",
              "    <tr>\n",
              "      <th>0</th>\n",
              "      <td>ARO:3002501</td>\n",
              "      <td>PDC-4</td>\n",
              "      <td>1</td>\n",
              "      <td>protein homolog model</td>\n",
              "      <td>Pseudomonas aeruginosa</td>\n",
              "      <td>0.0</td>\n",
              "      <td>0.04</td>\n",
              "      <td>0.0</td>\n",
              "      <td>0.0</td>\n",
              "      <td>perfect_strict</td>\n",
              "      <td>antibiotic inactivation; carbapenem; cephalosp...</td>\n",
              "    </tr>\n",
              "    <tr>\n",
              "      <th>1</th>\n",
              "      <td>ARO:3002999</td>\n",
              "      <td>CblA-1</td>\n",
              "      <td>2</td>\n",
              "      <td>protein homolog model</td>\n",
              "      <td>Phocaeicola dorei</td>\n",
              "      <td>0.0</td>\n",
              "      <td>1.92</td>\n",
              "      <td>0.0</td>\n",
              "      <td>0.0</td>\n",
              "      <td>perfect</td>\n",
              "      <td>antibiotic inactivation; cephalosporin</td>\n",
              "    </tr>\n",
              "    <tr>\n",
              "      <th>2</th>\n",
              "      <td>ARO:3002999</td>\n",
              "      <td>CblA-1</td>\n",
              "      <td>2</td>\n",
              "      <td>protein homolog model</td>\n",
              "      <td>Phocaeicola dorei</td>\n",
              "      <td>0.0</td>\n",
              "      <td>1.92</td>\n",
              "      <td>0.0</td>\n",
              "      <td>0.0</td>\n",
              "      <td>perfect_strict</td>\n",
              "      <td>antibiotic inactivation; cephalosporin</td>\n",
              "    </tr>\n",
              "    <tr>\n",
              "      <th>3</th>\n",
              "      <td>ARO:3001109</td>\n",
              "      <td>SHV-52</td>\n",
              "      <td>4</td>\n",
              "      <td>protein homolog model</td>\n",
              "      <td>Klebsiella pneumoniae</td>\n",
              "      <td>0.0</td>\n",
              "      <td>0.15</td>\n",
              "      <td>0.0</td>\n",
              "      <td>0.0</td>\n",
              "      <td>perfect</td>\n",
              "      <td>antibiotic inactivation; carbapenem; cephalosp...</td>\n",
              "    </tr>\n",
              "    <tr>\n",
              "      <th>4</th>\n",
              "      <td>ARO:3001109</td>\n",
              "      <td>SHV-52</td>\n",
              "      <td>4</td>\n",
              "      <td>protein homolog model</td>\n",
              "      <td>Klebsiella pneumoniae</td>\n",
              "      <td>0.0</td>\n",
              "      <td>0.16</td>\n",
              "      <td>0.0</td>\n",
              "      <td>0.0</td>\n",
              "      <td>perfect_strict</td>\n",
              "      <td>antibiotic inactivation; carbapenem; cephalosp...</td>\n",
              "    </tr>\n",
              "    <tr>\n",
              "      <th>5</th>\n",
              "      <td>ARO:3002867</td>\n",
              "      <td>dfrF</td>\n",
              "      <td>5</td>\n",
              "      <td>protein homolog model</td>\n",
              "      <td>Streptococcus suis</td>\n",
              "      <td>0.0</td>\n",
              "      <td>0.99</td>\n",
              "      <td>0.0</td>\n",
              "      <td>0.0</td>\n",
              "      <td>perfect_strict</td>\n",
              "      <td>antibiotic target replacement; diaminopyrimidi...</td>\n",
              "    </tr>\n",
              "    <tr>\n",
              "      <th>6</th>\n",
              "      <td>ARO:3002867</td>\n",
              "      <td>dfrF</td>\n",
              "      <td>5</td>\n",
              "      <td>protein homolog model</td>\n",
              "      <td>Enterococcus faecalis</td>\n",
              "      <td>0.0</td>\n",
              "      <td>4.72</td>\n",
              "      <td>0.0</td>\n",
              "      <td>0.0</td>\n",
              "      <td>perfect</td>\n",
              "      <td>antibiotic target replacement; diaminopyrimidi...</td>\n",
              "    </tr>\n",
              "    <tr>\n",
              "      <th>7</th>\n",
              "      <td>ARO:3002867</td>\n",
              "      <td>dfrF</td>\n",
              "      <td>5</td>\n",
              "      <td>protein homolog model</td>\n",
              "      <td>Streptococcus agalactiae</td>\n",
              "      <td>0.0</td>\n",
              "      <td>0.17</td>\n",
              "      <td>0.0</td>\n",
              "      <td>0.0</td>\n",
              "      <td>perfect_strict</td>\n",
              "      <td>antibiotic target replacement; diaminopyrimidi...</td>\n",
              "    </tr>\n",
              "    <tr>\n",
              "      <th>8</th>\n",
              "      <td>ARO:3002867</td>\n",
              "      <td>dfrF</td>\n",
              "      <td>5</td>\n",
              "      <td>protein homolog model</td>\n",
              "      <td>Streptococcus suis</td>\n",
              "      <td>0.0</td>\n",
              "      <td>0.15</td>\n",
              "      <td>0.0</td>\n",
              "      <td>0.0</td>\n",
              "      <td>perfect</td>\n",
              "      <td>antibiotic target replacement; diaminopyrimidi...</td>\n",
              "    </tr>\n",
              "    <tr>\n",
              "      <th>9</th>\n",
              "      <td>ARO:3002867</td>\n",
              "      <td>dfrF</td>\n",
              "      <td>5</td>\n",
              "      <td>protein homolog model</td>\n",
              "      <td>Staphylococcus aureus</td>\n",
              "      <td>0.0</td>\n",
              "      <td>0.11</td>\n",
              "      <td>0.0</td>\n",
              "      <td>0.0</td>\n",
              "      <td>perfect</td>\n",
              "      <td>antibiotic target replacement; diaminopyrimidi...</td>\n",
              "    </tr>\n",
              "  </tbody>\n",
              "</table>\n",
              "</div>\n",
              "      <button class=\"colab-df-convert\" onclick=\"convertToInteractive('df-7dbba77c-de51-4f4d-94fa-38970883ad0d')\"\n",
              "              title=\"Convert this dataframe to an interactive table.\"\n",
              "              style=\"display:none;\">\n",
              "        \n",
              "  <svg xmlns=\"http://www.w3.org/2000/svg\" height=\"24px\"viewBox=\"0 0 24 24\"\n",
              "       width=\"24px\">\n",
              "    <path d=\"M0 0h24v24H0V0z\" fill=\"none\"/>\n",
              "    <path d=\"M18.56 5.44l.94 2.06.94-2.06 2.06-.94-2.06-.94-.94-2.06-.94 2.06-2.06.94zm-11 1L8.5 8.5l.94-2.06 2.06-.94-2.06-.94L8.5 2.5l-.94 2.06-2.06.94zm10 10l.94 2.06.94-2.06 2.06-.94-2.06-.94-.94-2.06-.94 2.06-2.06.94z\"/><path d=\"M17.41 7.96l-1.37-1.37c-.4-.4-.92-.59-1.43-.59-.52 0-1.04.2-1.43.59L10.3 9.45l-7.72 7.72c-.78.78-.78 2.05 0 2.83L4 21.41c.39.39.9.59 1.41.59.51 0 1.02-.2 1.41-.59l7.78-7.78 2.81-2.81c.8-.78.8-2.07 0-2.86zM5.41 20L4 18.59l7.72-7.72 1.47 1.35L5.41 20z\"/>\n",
              "  </svg>\n",
              "      </button>\n",
              "      \n",
              "  <style>\n",
              "    .colab-df-container {\n",
              "      display:flex;\n",
              "      flex-wrap:wrap;\n",
              "      gap: 12px;\n",
              "    }\n",
              "\n",
              "    .colab-df-convert {\n",
              "      background-color: #E8F0FE;\n",
              "      border: none;\n",
              "      border-radius: 50%;\n",
              "      cursor: pointer;\n",
              "      display: none;\n",
              "      fill: #1967D2;\n",
              "      height: 32px;\n",
              "      padding: 0 0 0 0;\n",
              "      width: 32px;\n",
              "    }\n",
              "\n",
              "    .colab-df-convert:hover {\n",
              "      background-color: #E2EBFA;\n",
              "      box-shadow: 0px 1px 2px rgba(60, 64, 67, 0.3), 0px 1px 3px 1px rgba(60, 64, 67, 0.15);\n",
              "      fill: #174EA6;\n",
              "    }\n",
              "\n",
              "    [theme=dark] .colab-df-convert {\n",
              "      background-color: #3B4455;\n",
              "      fill: #D2E3FC;\n",
              "    }\n",
              "\n",
              "    [theme=dark] .colab-df-convert:hover {\n",
              "      background-color: #434B5C;\n",
              "      box-shadow: 0px 1px 3px 1px rgba(0, 0, 0, 0.15);\n",
              "      filter: drop-shadow(0px 1px 2px rgba(0, 0, 0, 0.3));\n",
              "      fill: #FFFFFF;\n",
              "    }\n",
              "  </style>\n",
              "\n",
              "      <script>\n",
              "        const buttonEl =\n",
              "          document.querySelector('#df-7dbba77c-de51-4f4d-94fa-38970883ad0d button.colab-df-convert');\n",
              "        buttonEl.style.display =\n",
              "          google.colab.kernel.accessAllowed ? 'block' : 'none';\n",
              "\n",
              "        async function convertToInteractive(key) {\n",
              "          const element = document.querySelector('#df-7dbba77c-de51-4f4d-94fa-38970883ad0d');\n",
              "          const dataTable =\n",
              "            await google.colab.kernel.invokeFunction('convertToInteractive',\n",
              "                                                     [key], {});\n",
              "          if (!dataTable) return;\n",
              "\n",
              "          const docLinkHtml = 'Like what you see? Visit the ' +\n",
              "            '<a target=\"_blank\" href=https://colab.research.google.com/notebooks/data_table.ipynb>data table notebook</a>'\n",
              "            + ' to learn more about interactive tables.';\n",
              "          element.innerHTML = '';\n",
              "          dataTable['output_type'] = 'display_data';\n",
              "          await google.colab.output.renderOutput(dataTable, element);\n",
              "          const docLink = document.createElement('div');\n",
              "          docLink.innerHTML = docLinkHtml;\n",
              "          element.appendChild(docLink);\n",
              "        }\n",
              "      </script>\n",
              "    </div>\n",
              "  </div>\n",
              "  "
            ]
          },
          "metadata": {},
          "execution_count": 44
        }
      ],
      "source": [
        "card_prevalence.head(10)"
      ]
    },
    {
      "cell_type": "code",
      "execution_count": 45,
      "metadata": {
        "id": "YzhvD2m1zVLp",
        "outputId": "aa35d610-39ca-4342-9b6d-6134806c6533",
        "colab": {
          "base_uri": "https://localhost:8080/"
        }
      },
      "outputs": [
        {
          "output_type": "execute_result",
          "data": {
            "text/plain": [
              "array(['protein homolog model', 'protein variant model',\n",
              "       'protein overexpression model', 'rRNA gene variant model'],\n",
              "      dtype=object)"
            ]
          },
          "metadata": {},
          "execution_count": 45
        }
      ],
      "source": [
        "card_prevalence[\"Model Type\"].unique()"
      ]
    },
    {
      "cell_type": "code",
      "execution_count": 46,
      "metadata": {
        "id": "wM2yl_U2zVLp"
      },
      "outputs": [],
      "source": [
        "aro_file = \"aro.obo\"\n",
        "content = open(aro_file, 'r').read()"
      ]
    },
    {
      "cell_type": "code",
      "execution_count": 47,
      "metadata": {
        "id": "qgcFocHEzVLp"
      },
      "outputs": [],
      "source": [
        "rx_term = re.compile(r\"(\\[Term\\]\\n.+?\\n\\n)\", re.DOTALL)\n",
        "term = re.findall(rx_term, content)"
      ]
    },
    {
      "cell_type": "code",
      "execution_count": 48,
      "metadata": {
        "id": "G3O47-OezVLp"
      },
      "outputs": [],
      "source": [
        "term_dictionary= {}\n",
        "\n",
        "rx_key = re.compile(r'(\\w+): (.+)')\n",
        "\n",
        "for t in term:\n",
        "    t = t.strip()\n",
        "    field = t.split(\"\\n\")\n",
        "\n",
        "    temp_dictionary= {}\n",
        "\n",
        "    for f in field:\n",
        "        key_match = rx_key.match(f)\n",
        "\n",
        "        if key_match:\n",
        "            key = key_match.group(1)\n",
        "            value = key_match.group(2)\n",
        "\n",
        "            if key in ['synonym', 'is_a', 'relationship']:\n",
        "                if key not in temp_dictionary:\n",
        "                    temp_dictionary[key] = []\n",
        "                temp_dictionary[key].append(value)\n",
        "            else:\n",
        "                if key == \"def\":\n",
        "                    value = value.replace('\"', \"\")\n",
        "                temp_dictionary[key] = value\n",
        "    \n",
        "    term_dictionary[temp_dictionary[\"id\"]] = temp_dictionary"
      ]
    },
    {
      "cell_type": "code",
      "execution_count": 49,
      "metadata": {
        "colab": {
          "base_uri": "https://localhost:8080/"
        },
        "id": "DpWj_S6kzVLp",
        "outputId": "9959863d-ad6a-47ec-8299-3ae41d262565"
      },
      "outputs": [
        {
          "output_type": "execute_result",
          "data": {
            "text/plain": [
              "{'def': 'Carbapenems are a class of beta-lactam antibiotics with a broad spectrum of antibacterial activity, and have a structure which renders them highly resistant to beta-lactamases. Carbapenem antibiotics are bactericidal, and act by inhibiting the synthesis of the peptidoglycan layer of bacterial cell walls. The peptidoglycan layer is important for cell wall structural integrity, especially in Gram-positive organisms. [PMID:11585791, PMID:15673804]',\n",
              " 'id': 'ARO:0000020',\n",
              " 'is_a': ['ARO:3000007 ! beta-lactam antibiotic'],\n",
              " 'name': 'carbapenem',\n",
              " 'namespace': 'antibiotic_resistance'}"
            ]
          },
          "metadata": {},
          "execution_count": 49
        }
      ],
      "source": [
        "term_dictionary[\"ARO:0000020\"]"
      ]
    },
    {
      "cell_type": "code",
      "execution_count": 50,
      "metadata": {
        "colab": {
          "base_uri": "https://localhost:8080/"
        },
        "id": "DJmzKojMzVLp",
        "outputId": "42a1b569-d3d6-462e-abfa-22e4595a339a"
      },
      "outputs": [
        {
          "output_type": "execute_result",
          "data": {
            "text/plain": [
              "{'def': 'SHV-52 is a beta-lactamase that has been found in clinical isolates. []',\n",
              " 'id': 'ARO:3001109',\n",
              " 'is_a': ['ARO:3000015 ! SHV beta-lactamase'],\n",
              " 'name': 'SHV-52',\n",
              " 'namespace': 'antibiotic_resistance'}"
            ]
          },
          "metadata": {},
          "execution_count": 50
        }
      ],
      "source": [
        "term_dictionary[\"ARO:3001109\"]"
      ]
    },
    {
      "cell_type": "code",
      "execution_count": 51,
      "metadata": {
        "id": "uRl5xZYwzVLp"
      },
      "outputs": [],
      "source": [
        "resistances = set()\n",
        "pathogens = set()\n",
        "drugs = set()\n",
        "\n",
        "pathogen_resistance = f\"pathogen,resistance,criteria,model_type\\n\"\n",
        "\n",
        "for i, row in card_prevalence.iterrows():\n",
        "    pathogen = row[\"Pathogen\"] \n",
        "    resistance = row[\"ARO Accession\"]\n",
        "    criteria = row[\"Criteria\"]\n",
        "    model_type = row[\"Model Type\"]\n",
        "\n",
        "    pathogens.add(pathogen)\n",
        "    resistances.add(resistance)\n",
        "\n",
        "    pathogen_resistance += f'\"{pathogen}\",\"{resistance}\",\"{criteria}\",\"{model_type}\"\\n'\n",
        "\n",
        "output = open(\"pathogen_resistance.csv\", 'w')\n",
        "output.write(pathogen_resistance)\n",
        "output.close()\n"
      ]
    },
    {
      "cell_type": "code",
      "execution_count": 52,
      "metadata": {
        "id": "ZyaxrQMlzVLq"
      },
      "outputs": [],
      "source": [
        "resistance_drug = f\"resistance,drug\\n\"\n",
        "\n",
        "for id in term_dictionary:\n",
        "    term = term_dictionary[id]\n",
        "\n",
        "    if \"relationship\" in term:\n",
        "        for r in term[\"relationship\"]:\n",
        "            if r.startswith(\"confers_resistance_to_drug_class\"):\n",
        "                s = r.replace(\"confers_resistance_to_drug_class\", \"\").strip()\n",
        "                fields = s.split(\"!\")\n",
        "\n",
        "                aro_id = fields[0].strip()\n",
        "\n",
        "                resistance_drug += f'\"{id}\",\"{aro_id}\"\\n'\n",
        "\n",
        "                \n",
        "                drugs.add(aro_id)\n",
        "                \n",
        "output = open(\"resistance_drug.csv\", 'w')\n",
        "output.write(resistance_drug)\n",
        "output.close()"
      ]
    },
    {
      "cell_type": "code",
      "source": [
        "drug = f\"aro,name,definition,is_a\\n\"\n",
        "\n",
        "for aro_id in drugs:\n",
        "    name = term_dictionary[aro_id]['name']\n",
        "    definition = term_dictionary[aro_id]['def']\n",
        "    is_a = term_dictionary[aro_id]['is_a']\n",
        "\n",
        "    drug += f'\"{aro_id}\",\"{name}\",\"{definition}\",\"{is_a}\"\\n'\n",
        "output = open(\"drug.csv\", 'w')\n",
        "output.write(drug)\n",
        "output.close()"
      ],
      "metadata": {
        "id": "Ekld0P4hvOf0"
      },
      "execution_count": 53,
      "outputs": []
    },
    {
      "cell_type": "code",
      "source": [
        "resistance = f\"aro,name,definition,is_a\\n\"\n",
        "\n",
        "for res in resistances:\n",
        "    name = term_dictionary[res]['name']\n",
        "    definition = term_dictionary[aro_id]['def']\n",
        "    is_a = term_dictionary[aro_id]['is_a']\n",
        "\n",
        "    resistance += f'\"{res}\",\"{name}\",\"{definition}\",\"{is_a}\"\\n'\n",
        "\n",
        "output = open(\"resistance.csv\", 'w')\n",
        "output.write(resistance)\n",
        "output.close()\n"
      ],
      "metadata": {
        "id": "jrzlmftwvkhF"
      },
      "execution_count": 54,
      "outputs": []
    },
    {
      "cell_type": "code",
      "source": [
        "pathogen = f\"name\\n\"\n",
        "\n",
        "for p in pathogens:\n",
        "    pathogen += f\"{p}\\n\"\n",
        "\n",
        "output = open(\"pathogen.csv\", 'w')\n",
        "output.write(pathogen)\n",
        "output.close()"
      ],
      "metadata": {
        "id": "QBrd_uurvnMQ"
      },
      "execution_count": 55,
      "outputs": []
    },
    {
      "cell_type": "code",
      "source": [
        ""
      ],
      "metadata": {
        "id": "wKEUoMpSwb7L"
      },
      "execution_count": null,
      "outputs": []
    }
  ],
  "metadata": {
    "interpreter": {
      "hash": "820bded3f616df4412e170acad9336b748b69e0521c4734711936a207ce67476"
    },
    "kernelspec": {
      "display_name": "Python 3.8.8 64-bit ('base': conda)",
      "name": "python3"
    },
    "language_info": {
      "codemirror_mode": {
        "name": "ipython",
        "version": 3
      },
      "file_extension": ".py",
      "mimetype": "text/x-python",
      "name": "python",
      "nbconvert_exporter": "python",
      "pygments_lexer": "ipython3",
      "version": "3.10.1"
    },
    "orig_nbformat": 4,
    "colab": {
      "name": "analysis.ipynb",
      "provenance": [],
      "collapsed_sections": []
    }
  },
  "nbformat": 4,
  "nbformat_minor": 0
}